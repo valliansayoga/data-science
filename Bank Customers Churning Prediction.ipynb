{
  "cells": [
    {
      "cell_type": "markdown",
      "id": "6bbe3bc1-fa07-4a87-bd4f-a24aa99e3d39",
      "metadata": {
        "id": "6bbe3bc1-fa07-4a87-bd4f-a24aa99e3d39"
      },
      "source": [
        "**Analysis by Vallian Sayoga**\n",
        "\n",
        "<font color='red'><b>NOTE: THE DATA IS CONFIDENTIAL SO I WILL NOT SHOW THE DATA AND SOME OF THE VISUALISATIONS ARE DELETED, ONLY THE METHODS REMAIN</b></font>\n",
        "\n",
        "Dataset by BRI (The details of sensitive information have been omitted to protect privacy)\n",
        "\n",
        "This is an analysis on BRI customers data that have or not churned. The analysis is done to create a predictive model on customers churning.\n",
        "\n",
        "Here, I demonstrated skills in:\n",
        "1. Working with huge dataset\n",
        "1. Data cleaning\n",
        "1. Analysis on imbalanced dataset\n",
        "1. Features selection using algorithmic method\n",
        "1. Models creation and evaluation\n",
        "\n",
        "Based on this analysis, **Random Forest** is the best model for this dataset with AUC score of 0.733 on validation data."
      ]
    },
    {
      "cell_type": "code",
      "execution_count": null,
      "id": "e47398dd-f4f0-4e13-9cc4-b03de6802354",
      "metadata": {
        "id": "e47398dd-f4f0-4e13-9cc4-b03de6802354"
      },
      "outputs": [],
      "source": [
        "import pandas as pd\n",
        "import numpy as np\n",
        "import matplotlib.pyplot as plt\n",
        "import seaborn as sns\n",
        "import imblearn\n",
        "\n",
        "sns.set_theme()"
      ]
    },
    {
      "cell_type": "markdown",
      "id": "02222be0-2126-4424-a8a5-6a1de1ce24eb",
      "metadata": {
        "id": "02222be0-2126-4424-a8a5-6a1de1ce24eb"
      },
      "source": [
        "# Check dataset basic features"
      ]
    },
    {
      "cell_type": "code",
      "execution_count": null,
      "id": "0f786f24-4237-4892-9e6c-b06fbaefb483",
      "metadata": {
        "id": "0f786f24-4237-4892-9e6c-b06fbaefb483"
      },
      "outputs": [],
      "source": [
        "df = pd.read_csv(\"findata_challenge_train.csv\")"
      ]
    },
    {
      "cell_type": "code",
      "execution_count": null,
      "id": "QDbQVzSmUtsa",
      "metadata": {
        "colab": {
          "base_uri": "https://localhost:8080/"
        },
        "id": "QDbQVzSmUtsa",
        "outputId": "ab6e0d22-35ca-42fe-fa00-b7e5e2da0438"
      },
      "outputs": [
        {
          "data": {
            "text/plain": [
              "0    83008\n",
              "1    16992\n",
              "Name: y, dtype: int64"
            ]
          },
          "execution_count": 4,
          "metadata": {},
          "output_type": "execute_result"
        }
      ],
      "source": [
        "df.y.value_counts()"
      ]
    },
    {
      "cell_type": "code",
      "execution_count": null,
      "id": "2ef5c37a-e0f3-4eb3-be0b-a3c21ddc48d1",
      "metadata": {
        "colab": {
          "base_uri": "https://localhost:8080/"
        },
        "id": "2ef5c37a-e0f3-4eb3-be0b-a3c21ddc48d1",
        "outputId": "1f88b7e7-c8e0-4570-b50b-afb301a753b5"
      },
      "outputs": [
        {
          "data": {
            "text/plain": [
              "(100000, 126)"
            ]
          },
          "execution_count": 5,
          "metadata": {},
          "output_type": "execute_result"
        }
      ],
      "source": [
        "df.shape"
      ]
    },
    {
      "cell_type": "code",
      "execution_count": null,
      "id": "92ca8041-44b2-4284-9821-be5846c661b8",
      "metadata": {
        "colab": {
          "base_uri": "https://localhost:8080/"
        },
        "id": "92ca8041-44b2-4284-9821-be5846c661b8",
        "outputId": "0d903ecc-ef76-40c8-ff7a-cd74de54161e"
      },
      "outputs": [
        {
          "name": "stdout",
          "output_type": "stream",
          "text": [
            "<class 'pandas.core.frame.DataFrame'>\n",
            "RangeIndex: 100000 entries, 0 to 99999\n",
            "Columns: 126 entries, x0 to y\n",
            "dtypes: float64(120), int64(1), object(5)\n",
            "memory usage: 96.1+ MB\n"
          ]
        }
      ],
      "source": [
        "df.info()"
      ]
    },
    {
      "cell_type": "code",
      "execution_count": null,
      "id": "7dcacbf1-0013-4d39-bfcd-bbaf8cb30037",
      "metadata": {
        "id": "7dcacbf1-0013-4d39-bfcd-bbaf8cb30037"
      },
      "outputs": [],
      "source": [
        "con_var = [col for col in df.columns if df[col].dtype == np.float64]\n",
        "cat_var = [col for col in df.columns if df[col].dtype == object]\n",
        "\n",
        "# Imputing continuous variables with KNN Imputer\n",
        "from sklearn.impute import KNNImputer\n",
        "imputer = KNNImputer(n_neighbors=2)\n",
        "df[con_var] = imputer.fit_transform(df[con_var])\n",
        "    \n",
        "# Imputing categorical variables with their mode\n",
        "for col in cat_var:\n",
        "    df[col] = df[col].replace(np.nan, df[col].mode()[0])"
      ]
    },
    {
      "cell_type": "code",
      "execution_count": null,
      "id": "e0a408ef-8a1d-4471-9e34-dbce4e7eb6d6",
      "metadata": {
        "colab": {
          "base_uri": "https://localhost:8080/"
        },
        "id": "e0a408ef-8a1d-4471-9e34-dbce4e7eb6d6",
        "outputId": "fee2b6f2-cb7d-420d-d325-3a001b9a1fe7"
      },
      "outputs": [
        {
          "data": {
            "text/plain": [
              "Series([], dtype: int64)"
            ]
          },
          "execution_count": 12,
          "metadata": {},
          "output_type": "execute_result"
        }
      ],
      "source": [
        "NA = df.isna().sum()\n",
        "NA[NA != 0]"
      ]
    },
    {
      "cell_type": "code",
      "execution_count": null,
      "id": "728e026d-3e25-4a54-8ec5-2fd5d2ab01e0",
      "metadata": {
        "id": "728e026d-3e25-4a54-8ec5-2fd5d2ab01e0"
      },
      "outputs": [],
      "source": [
        "# Proportion of churning customers\n",
        "labels = 'Yes', 'No'\n",
        "sizes = [df.y[df['y']==1].count(), df.y[df['y']==0].count()]\n",
        "explode = (0, 0.1)\n",
        "fig1, ax1 = plt.subplots(figsize=(10, 8))\n",
        "ax1.pie(sizes, explode=explode, labels=labels, autopct='%1.1f%%',\n",
        "        shadow=True, startangle=90)\n",
        "ax1.axis('equal')\n",
        "plt.title(\"Proportion of customer churned and retained\", size = 20)\n",
        "plt.show()"
      ]
    },
    {
      "cell_type": "markdown",
      "id": "24f485a7-5dd0-4cf3-ab79-c69719c542ea",
      "metadata": {
        "id": "24f485a7-5dd0-4cf3-ab79-c69719c542ea"
      },
      "source": [
        "This is an imbalanced dataset with 17% churned. We have to do some balancing on the data set."
      ]
    },
    {
      "cell_type": "markdown",
      "id": "f9711bae-c62c-4b44-8273-7317c47beb80",
      "metadata": {
        "id": "f9711bae-c62c-4b44-8273-7317c47beb80"
      },
      "source": [
        "**Boxplots of continuous variables**"
      ]
    },
    {
      "cell_type": "code",
      "execution_count": null,
      "id": "18c534e2-6398-46e9-a8b4-3d5d0cff0340",
      "metadata": {
        "id": "18c534e2-6398-46e9-a8b4-3d5d0cff0340",
        "scrolled": true,
        "tags": []
      },
      "outputs": [],
      "source": [
        "fig, axs = plt.subplots(nrows=40, ncols=3, figsize=(20,220))\n",
        "plt.subplots_adjust(hspace=.5)\n",
        "\n",
        "for con, ax in zip(con_var, axs.ravel()):\n",
        "    sns.boxplot(y=con, x='y', data=df, hue='y', ax=ax)"
      ]
    },
    {
      "cell_type": "markdown",
      "id": "5d664902-b857-417a-802e-63e10711b5eb",
      "metadata": {
        "id": "5d664902-b857-417a-802e-63e10711b5eb"
      },
      "source": [
        "Boxplot menunjukan bahwa dataset training banyak mengandung outlier sehingga cocok di-scale dengan RobustScaler"
      ]
    },
    {
      "cell_type": "markdown",
      "id": "f25f97ec-ebe7-4092-94d3-006c418fa46c",
      "metadata": {
        "id": "f25f97ec-ebe7-4092-94d3-006c418fa46c"
      },
      "source": [
        "**Column charts of categorical variables**"
      ]
    },
    {
      "cell_type": "code",
      "execution_count": null,
      "id": "17c5d8b6-2cff-47f0-b6a8-21f55fc77ad7",
      "metadata": {
        "id": "17c5d8b6-2cff-47f0-b6a8-21f55fc77ad7",
        "tags": []
      },
      "outputs": [],
      "source": [
        "fig, axs = plt.subplots(nrows=3, ncols=2, figsize=(18,25))\n",
        "plt.subplots_adjust(hspace=.5)\n",
        "\n",
        "for con, ax in zip(cat_var, axs.ravel()):\n",
        "    sns.countplot(y=con, data=df, hue='y', ax=ax)"
      ]
    },
    {
      "cell_type": "markdown",
      "id": "e1d2f24f-2c2b-4faf-b21b-28da34a827d2",
      "metadata": {
        "id": "e1d2f24f-2c2b-4faf-b21b-28da34a827d2"
      },
      "source": [
        "The details on column names have been deleted so these are the only conclusion I can get without any contexts at all.\n",
        "\n",
        "1. Churning mostly happen in June (first chart) dan July (fifth chart)\n",
        "    * Why those months have the highest churning rate?\n",
        "1. There is no difference in gender\n",
        "1. Provinces that experience highest churning rate: Kalimantan (East, Central, West) and North Sumatera\n",
        "    * BRI must create a policy to retain customers in those provinces\n",
        "1. Customers with midle school education level (SMP) have the highest churning rate\n",
        "    * A further investigation must be done to find the correlation between education levels and churning rate"
      ]
    },
    {
      "cell_type": "code",
      "execution_count": null,
      "id": "fb615cb2-b2d9-43d0-b6fc-0949aadcae9e",
      "metadata": {
        "id": "fb615cb2-b2d9-43d0-b6fc-0949aadcae9e"
      },
      "outputs": [],
      "source": [
        "# Support functions\n",
        "from sklearn.model_selection import GridSearchCV\n",
        "from sklearn.preprocessing import LabelEncoder\n",
        "from sklearn.model_selection import RepeatedStratifiedKFold\n",
        "from sklearn.model_selection import cross_val_score\n",
        "\n",
        "# Fit models\n",
        "from sklearn.linear_model import LogisticRegression\n",
        "from sklearn.ensemble import RandomForestClassifier\n",
        "from xgboost import XGBClassifier\n",
        "from sklearn.naive_bayes import GaussianNB\n",
        "\n",
        "# Scoring functions\n",
        "from sklearn.metrics import accuracy_score\n",
        "from sklearn.metrics import classification_report\n",
        "from sklearn.metrics import roc_auc_score\n",
        "from sklearn.metrics import roc_curve\n",
        "from sklearn.metrics import confusion_matrix"
      ]
    },
    {
      "cell_type": "code",
      "execution_count": null,
      "id": "NXvx9jB6GPd9",
      "metadata": {
        "id": "NXvx9jB6GPd9"
      },
      "outputs": [],
      "source": [
        "# Creating CV object\n",
        "cv = RepeatedStratifiedKFold(n_splits=4, n_repeats=2, random_state=2022)"
      ]
    },
    {
      "cell_type": "markdown",
      "id": "Iz5PAcmny-tz",
      "metadata": {
        "id": "Iz5PAcmny-tz"
      },
      "source": [
        "# Data pre-processing"
      ]
    },
    {
      "cell_type": "code",
      "execution_count": null,
      "id": "145b7bc4-c2ef-4207-a75f-ad946889a1a1",
      "metadata": {
        "id": "145b7bc4-c2ef-4207-a75f-ad946889a1a1"
      },
      "outputs": [],
      "source": [
        "X = df.drop('y', axis=1)\n",
        "y = df['y']"
      ]
    },
    {
      "cell_type": "code",
      "execution_count": null,
      "id": "5bd55f44-cbb6-4fad-a8ff-638bfd4c834c",
      "metadata": {
        "id": "5bd55f44-cbb6-4fad-a8ff-638bfd4c834c"
      },
      "outputs": [],
      "source": [
        "# Converting all of the categorical into numerical\n",
        "for column in X.columns:\n",
        "    if X[column].dtype == object:\n",
        "        X[column] = LabelEncoder().fit_transform(X[column])\n",
        "\n",
        "# Scaling data dengan RobustScaler karena banyak outlier di boxplot\n",
        "from sklearn.preprocessing import RobustScaler\n",
        "X = RobustScaler().fit_transform(X)\n",
        "\n",
        "# Feature selection using ExtraTreeClassifier\n",
        "from sklearn.ensemble import ExtraTreesClassifier\n",
        "from sklearn.feature_selection import SelectFromModel\n",
        "\n",
        "clf = ExtraTreesClassifier(n_estimators=50)\n",
        "clf = clf.fit(X, y)\n",
        "\n",
        "model = SelectFromModel(clf, prefit=True)\n",
        "X = model.transform(X)\n",
        "\n",
        "# Features mask\n",
        "mask = model.get_support()"
      ]
    },
    {
      "cell_type": "code",
      "execution_count": null,
      "id": "93b8c8c7-854a-426b-a66d-12c5d4a2a15e",
      "metadata": {
        "id": "93b8c8c7-854a-426b-a66d-12c5d4a2a15e"
      },
      "outputs": [],
      "source": [
        "# Splitting to train dan validation\n",
        "from sklearn.model_selection import train_test_split\n",
        "X_train, X_val, y_train, y_val = train_test_split(\n",
        "    X, y, random_state=2022, test_size=0.1)\n",
        "\n",
        "# SMOTE balancing data set\n",
        "from imblearn.over_sampling import SMOTE\n",
        "oversample = SMOTE(random_state=2022)\n",
        "X_train, y_train = oversample.fit_resample(X_train, y_train)"
      ]
    },
    {
      "cell_type": "code",
      "execution_count": null,
      "id": "Vza8xLDmWYZ5",
      "metadata": {
        "colab": {
          "base_uri": "https://localhost:8080/"
        },
        "id": "Vza8xLDmWYZ5",
        "outputId": "f317dc6d-109f-4b18-d718-0fc1e14cd035"
      },
      "outputs": [
        {
          "data": {
            "text/plain": [
              "0    74682\n",
              "1    74682\n",
              "Name: y, dtype: int64"
            ]
          },
          "execution_count": 40,
          "metadata": {},
          "output_type": "execute_result"
        }
      ],
      "source": [
        "y_train.value_counts()"
      ]
    },
    {
      "cell_type": "code",
      "execution_count": null,
      "id": "BLruqFufv3QI",
      "metadata": {
        "colab": {
          "base_uri": "https://localhost:8080/"
        },
        "id": "BLruqFufv3QI",
        "outputId": "cf2ba5d5-d08a-4a9e-fd84-d54bdd04d289"
      },
      "outputs": [
        {
          "data": {
            "text/plain": [
              "0    8326\n",
              "1    1674\n",
              "Name: y, dtype: int64"
            ]
          },
          "execution_count": 41,
          "metadata": {},
          "output_type": "execute_result"
        }
      ],
      "source": [
        "y_val.value_counts()"
      ]
    },
    {
      "cell_type": "code",
      "execution_count": null,
      "id": "18cc24eb-6805-42b8-810a-939504d7f99c",
      "metadata": {
        "id": "18cc24eb-6805-42b8-810a-939504d7f99c"
      },
      "outputs": [],
      "source": [
        "# Function to get auc scores\n",
        "def get_auc_scores(y_actual, method, method2):\n",
        "    auc_score = roc_auc_score(y_actual, method); \n",
        "    fpr_df, tpr_df, _ = roc_curve(y_actual, method2); \n",
        "    return (auc_score, fpr_df, tpr_df)"
      ]
    },
    {
      "cell_type": "markdown",
      "id": "9a6VlwZGOIaf",
      "metadata": {
        "id": "9a6VlwZGOIaf"
      },
      "source": [
        "# Model testing & cross_val_score"
      ]
    },
    {
      "cell_type": "markdown",
      "id": "8a9033c0-1b95-4155-83aa-ef10c4a7dd00",
      "metadata": {
        "id": "8a9033c0-1b95-4155-83aa-ef10c4a7dd00"
      },
      "source": [
        "Churning prediction is binary classification. Suitable models for this are\n",
        "1. Logistic regression\n",
        "1. KNN classifier\n",
        "1. Naive bayes\n",
        "1. Stochastic gradient\n",
        "1. Ada boost classifier\n",
        "1. Random forest\n",
        "1. Extreme gradient boost"
      ]
    },
    {
      "cell_type": "markdown",
      "id": "d4Mpezgjijs9",
      "metadata": {
        "id": "d4Mpezgjijs9"
      },
      "source": [
        "**Ada boost Classifier**"
      ]
    },
    {
      "cell_type": "code",
      "execution_count": null,
      "id": "A3uM3PiMim65",
      "metadata": {
        "colab": {
          "base_uri": "https://localhost:8080/"
        },
        "id": "A3uM3PiMim65",
        "outputId": "09de26bc-373c-418a-bc3f-31139e4cb551"
      },
      "outputs": [
        {
          "data": {
            "text/plain": [
              "0.7850181657725201"
            ]
          },
          "execution_count": 42,
          "metadata": {},
          "output_type": "execute_result"
        }
      ],
      "source": [
        "from sklearn.ensemble import AdaBoostClassifier\n",
        "Ada = AdaBoostClassifier()\n",
        "Ada.fit(X_train, y_train)\n",
        "AdaCross = cross_val_score(Ada, X_train, y_train, cv=cv, scoring='roc_auc', n_jobs=-1)\n",
        "AdaCross.mean()"
      ]
    },
    {
      "cell_type": "markdown",
      "id": "bd1db695-609c-46b4-818b-8c340135eb69",
      "metadata": {
        "id": "bd1db695-609c-46b4-818b-8c340135eb69"
      },
      "source": [
        "**Logistic Regression**"
      ]
    },
    {
      "cell_type": "code",
      "execution_count": null,
      "id": "6f0cab08-eeb6-47e1-9047-e5b42e2551c1",
      "metadata": {
        "colab": {
          "base_uri": "https://localhost:8080/"
        },
        "id": "6f0cab08-eeb6-47e1-9047-e5b42e2551c1",
        "outputId": "4b4355c1-1afa-409c-e393-74f047244de4"
      },
      "outputs": [
        {
          "data": {
            "text/plain": [
              "0.6494227745269288"
            ]
          },
          "execution_count": 43,
          "metadata": {},
          "output_type": "execute_result"
        }
      ],
      "source": [
        "log = LogisticRegression(random_state=2022, max_iter=250, n_jobs=-1)\n",
        "log.fit(X_train, y_train)\n",
        "logCross = cross_val_score(log,X_train, y_train,cv=cv,scoring='roc_auc', n_jobs=-1)\n",
        "logCross.mean()"
      ]
    },
    {
      "cell_type": "markdown",
      "id": "2579fbe3-a590-4495-a1dc-c2333e8b1f58",
      "metadata": {
        "id": "2579fbe3-a590-4495-a1dc-c2333e8b1f58"
      },
      "source": [
        "**Random Forest**"
      ]
    },
    {
      "cell_type": "code",
      "execution_count": null,
      "id": "0434b52f-edd9-4309-9752-6f9b34ed2341",
      "metadata": {
        "colab": {
          "base_uri": "https://localhost:8080/"
        },
        "id": "0434b52f-edd9-4309-9752-6f9b34ed2341",
        "outputId": "d98ce5d7-d69e-4d3a-d08d-b5864e79cccb"
      },
      "outputs": [
        {
          "data": {
            "text/plain": [
              "0.9824562121506513"
            ]
          },
          "execution_count": 44,
          "metadata": {},
          "output_type": "execute_result"
        }
      ],
      "source": [
        "RF = RandomForestClassifier(oob_score=True, random_state=2022, max_features = 8)\n",
        "RF.fit(X_train, y_train)\n",
        "RFCross = cross_val_score(RF, X_train, y_train,cv=cv,scoring='roc_auc', n_jobs=-1)\n",
        "RFCross.mean()"
      ]
    },
    {
      "cell_type": "markdown",
      "id": "82cddc1c-d460-4352-8238-ba3eac83096a",
      "metadata": {
        "id": "82cddc1c-d460-4352-8238-ba3eac83096a"
      },
      "source": [
        "**Extreme Gradient Boost**"
      ]
    },
    {
      "cell_type": "code",
      "execution_count": null,
      "id": "9910d078-5402-458d-899e-1ec7ecb7796a",
      "metadata": {
        "colab": {
          "base_uri": "https://localhost:8080/"
        },
        "id": "9910d078-5402-458d-899e-1ec7ecb7796a",
        "outputId": "74c4f366-3104-4b83-adbc-6b2a3212f259"
      },
      "outputs": [
        {
          "name": "stderr",
          "output_type": "stream",
          "text": [
            "/usr/local/lib/python3.7/dist-packages/joblib/externals/loky/process_executor.py:705: UserWarning: A worker stopped while some jobs were given to the executor. This can be caused by a too short worker timeout or by a memory leak.\n",
            "  \"timeout or by a memory leak.\", UserWarning\n"
          ]
        },
        {
          "data": {
            "text/plain": [
              "0.9016384857038935"
            ]
          },
          "execution_count": 45,
          "metadata": {},
          "output_type": "execute_result"
        }
      ],
      "source": [
        "XGB = XGBClassifier(use_label_encoder=False, base_score=0.5, booster='gbtree', objective='binary:logistic')\n",
        "XGB.fit(X_train, y_train)\n",
        "XGBCross = cross_val_score(XGB,X_train, y_train,cv=cv,scoring='roc_auc', n_jobs=-1)\n",
        "XGBCross.mean()"
      ]
    },
    {
      "cell_type": "markdown",
      "id": "397f3165-8b33-4724-983b-ce2b551bfa24",
      "metadata": {
        "id": "397f3165-8b33-4724-983b-ce2b551bfa24"
      },
      "source": [
        "**Naive Bayes**"
      ]
    },
    {
      "cell_type": "code",
      "execution_count": null,
      "id": "3f24e634-e94a-402b-aad1-d98129819697",
      "metadata": {
        "colab": {
          "base_uri": "https://localhost:8080/"
        },
        "id": "3f24e634-e94a-402b-aad1-d98129819697",
        "outputId": "f03ca1e3-41e0-48df-d3a7-ff943e9ac01d"
      },
      "outputs": [
        {
          "data": {
            "text/plain": [
              "0.6805028525543811"
            ]
          },
          "execution_count": 46,
          "metadata": {},
          "output_type": "execute_result"
        }
      ],
      "source": [
        "gnb = GaussianNB()\n",
        "gnb.fit(X_train, y_train)\n",
        "gnbCross = cross_val_score(gnb, X_train, y_train,cv=cv,scoring='roc_auc', n_jobs=-1)\n",
        "gnbCross.mean()"
      ]
    },
    {
      "cell_type": "markdown",
      "id": "522d2bbd-5b1b-4be6-9c88-d92908f581a5",
      "metadata": {
        "id": "522d2bbd-5b1b-4be6-9c88-d92908f581a5"
      },
      "source": [
        "**Stochastic Gradient**"
      ]
    },
    {
      "cell_type": "code",
      "execution_count": null,
      "id": "1c9ea718-eb16-4cf0-8aec-d78b9b3ebf5a",
      "metadata": {
        "colab": {
          "base_uri": "https://localhost:8080/"
        },
        "id": "1c9ea718-eb16-4cf0-8aec-d78b9b3ebf5a",
        "outputId": "51ba58e5-0d87-41eb-aba7-41e3e3d5bc4d"
      },
      "outputs": [
        {
          "data": {
            "text/plain": [
              "0.6386626967220891"
            ]
          },
          "execution_count": 47,
          "metadata": {},
          "output_type": "execute_result"
        }
      ],
      "source": [
        "from sklearn.linear_model import SGDClassifier\n",
        "SGD = SGDClassifier(loss=\"log\", penalty=\"l2\", max_iter=100)\n",
        "SGD.fit(X_train, y_train)\n",
        "SGDCross = cross_val_score(SGD,X_train, y_train,cv=cv,scoring='roc_auc', n_jobs=-1)\n",
        "SGDCross.mean()"
      ]
    },
    {
      "cell_type": "markdown",
      "id": "ba2fbc39-2592-4035-8127-84c9d192db41",
      "metadata": {
        "id": "ba2fbc39-2592-4035-8127-84c9d192db41"
      },
      "source": [
        "**KNN Classifier**"
      ]
    },
    {
      "cell_type": "code",
      "execution_count": null,
      "id": "e29b54b4-b2da-4cb3-a38e-5ecf16203a41",
      "metadata": {
        "colab": {
          "base_uri": "https://localhost:8080/"
        },
        "id": "e29b54b4-b2da-4cb3-a38e-5ecf16203a41",
        "outputId": "772f736d-5405-4768-e6f7-2bc81e251b2c"
      },
      "outputs": [
        {
          "data": {
            "text/plain": [
              "0.9457024073606526"
            ]
          },
          "execution_count": 48,
          "metadata": {},
          "output_type": "execute_result"
        }
      ],
      "source": [
        "# weights = distance\n",
        "from sklearn.neighbors import KNeighborsClassifier\n",
        "neigh = KNeighborsClassifier(n_neighbors=3, weights='distance', n_jobs=-1)\n",
        "neigh.fit(X_train, y_train)\n",
        "neighCross = cross_val_score(neigh,X_train, y_train,cv=cv,scoring='roc_auc')\n",
        "neighCross.mean()"
      ]
    },
    {
      "cell_type": "code",
      "execution_count": null,
      "id": "0hezyUgpm7N1",
      "metadata": {
        "colab": {
          "base_uri": "https://localhost:8080/"
        },
        "id": "0hezyUgpm7N1",
        "outputId": "af952f67-fdc3-43e3-d02f-67c50642e237"
      },
      "outputs": [
        {
          "data": {
            "text/plain": [
              "0.9405682978741898"
            ]
          },
          "execution_count": 49,
          "metadata": {},
          "output_type": "execute_result"
        }
      ],
      "source": [
        "# weights = default\n",
        "neigh2 = KNeighborsClassifier(n_neighbors=3, n_jobs=-1)\n",
        "neigh2.fit(X_train, y_train)\n",
        "neigh2Cross = cross_val_score(neigh2,X_train, y_train,cv=cv,scoring='roc_auc')\n",
        "neigh2Cross.mean()"
      ]
    },
    {
      "cell_type": "markdown",
      "id": "a1488beb-0694-4e22-a4be-af7fa9809b80",
      "metadata": {
        "id": "a1488beb-0694-4e22-a4be-af7fa9809b80"
      },
      "source": [
        "# Classification reports"
      ]
    },
    {
      "cell_type": "code",
      "execution_count": null,
      "id": "fba61d5a-aee8-4beb-a61a-3c8aa7b4b364",
      "metadata": {
        "colab": {
          "base_uri": "https://localhost:8080/"
        },
        "id": "fba61d5a-aee8-4beb-a61a-3c8aa7b4b364",
        "outputId": "8aa50366-f3a5-4bef-ba57-799583491fcc"
      },
      "outputs": [
        {
          "name": "stdout",
          "output_type": "stream",
          "text": [
            "              precision    recall  f1-score   support\n",
            "\n",
            "           0       0.60      0.64      0.62     74682\n",
            "           1       0.62      0.57      0.59     74682\n",
            "\n",
            "    accuracy                           0.61    149364\n",
            "   macro avg       0.61      0.61      0.61    149364\n",
            "weighted avg       0.61      0.61      0.61    149364\n",
            "\n",
            "              precision    recall  f1-score   support\n",
            "\n",
            "           0       0.88      0.65      0.75      8326\n",
            "           1       0.24      0.56      0.34      1674\n",
            "\n",
            "    accuracy                           0.63     10000\n",
            "   macro avg       0.56      0.60      0.54     10000\n",
            "weighted avg       0.77      0.63      0.68     10000\n",
            "\n"
          ]
        }
      ],
      "source": [
        "# Logistic\n",
        "print(classification_report(y_train, log.predict(X_train)))\n",
        "print(classification_report(y_val, log.predict(X_val)))"
      ]
    },
    {
      "cell_type": "code",
      "execution_count": null,
      "id": "1dc65266-8bc9-4f60-be13-a2264d1221df",
      "metadata": {
        "colab": {
          "base_uri": "https://localhost:8080/"
        },
        "id": "1dc65266-8bc9-4f60-be13-a2264d1221df",
        "outputId": "7c09bec4-b68c-489f-edbe-d768abca1465"
      },
      "outputs": [
        {
          "name": "stdout",
          "output_type": "stream",
          "text": [
            "              precision    recall  f1-score   support\n",
            "\n",
            "           0       1.00      1.00      1.00     74682\n",
            "           1       1.00      1.00      1.00     74682\n",
            "\n",
            "    accuracy                           1.00    149364\n",
            "   macro avg       1.00      1.00      1.00    149364\n",
            "weighted avg       1.00      1.00      1.00    149364\n",
            "\n",
            "              precision    recall  f1-score   support\n",
            "\n",
            "           0       0.90      0.98      0.94      8326\n",
            "           1       0.82      0.49      0.61      1674\n",
            "\n",
            "    accuracy                           0.90     10000\n",
            "   macro avg       0.86      0.73      0.78     10000\n",
            "weighted avg       0.89      0.90      0.89     10000\n",
            "\n"
          ]
        }
      ],
      "source": [
        "# Random forest\n",
        "print(classification_report(y_train, RF.predict(X_train)))\n",
        "print(classification_report(y_val, RF.predict(X_val)))"
      ]
    },
    {
      "cell_type": "code",
      "execution_count": null,
      "id": "5b663a49-9de7-4013-ab17-be03166dfb13",
      "metadata": {
        "colab": {
          "base_uri": "https://localhost:8080/"
        },
        "id": "5b663a49-9de7-4013-ab17-be03166dfb13",
        "outputId": "18b54829-23d8-4807-975b-bb31f3a6e6e8"
      },
      "outputs": [
        {
          "name": "stdout",
          "output_type": "stream",
          "text": [
            "              precision    recall  f1-score   support\n",
            "\n",
            "           0       0.78      0.95      0.86     74682\n",
            "           1       0.94      0.73      0.82     74682\n",
            "\n",
            "    accuracy                           0.84    149364\n",
            "   macro avg       0.86      0.84      0.84    149364\n",
            "weighted avg       0.86      0.84      0.84    149364\n",
            "\n",
            "              precision    recall  f1-score   support\n",
            "\n",
            "           0       0.88      0.95      0.92      8326\n",
            "           1       0.62      0.37      0.46      1674\n",
            "\n",
            "    accuracy                           0.86     10000\n",
            "   macro avg       0.75      0.66      0.69     10000\n",
            "weighted avg       0.84      0.86      0.84     10000\n",
            "\n"
          ]
        }
      ],
      "source": [
        "# XGBOOST\n",
        "print(classification_report(y_train, XGB.predict(X_train)))\n",
        "print(classification_report(y_val, XGB.predict(X_val)))"
      ]
    },
    {
      "cell_type": "code",
      "execution_count": null,
      "id": "0f80814d-e47e-460f-8116-dfabbce4fbeb",
      "metadata": {
        "colab": {
          "base_uri": "https://localhost:8080/"
        },
        "id": "0f80814d-e47e-460f-8116-dfabbce4fbeb",
        "outputId": "bdd72acd-bac8-4831-f137-8f5ee540e7cd"
      },
      "outputs": [
        {
          "name": "stdout",
          "output_type": "stream",
          "text": [
            "              precision    recall  f1-score   support\n",
            "\n",
            "           0       0.63      0.64      0.63     74682\n",
            "           1       0.63      0.63      0.63     74682\n",
            "\n",
            "    accuracy                           0.63    149364\n",
            "   macro avg       0.63      0.63      0.63    149364\n",
            "weighted avg       0.63      0.63      0.63    149364\n",
            "\n",
            "              precision    recall  f1-score   support\n",
            "\n",
            "           0       0.89      0.65      0.75      8326\n",
            "           1       0.26      0.61      0.36      1674\n",
            "\n",
            "    accuracy                           0.64     10000\n",
            "   macro avg       0.58      0.63      0.56     10000\n",
            "weighted avg       0.79      0.64      0.68     10000\n",
            "\n"
          ]
        }
      ],
      "source": [
        "# Naive bayes\n",
        "print(classification_report(y_train, gnb.predict(X_train)))\n",
        "print(classification_report(y_val, gnb.predict(X_val)))"
      ]
    },
    {
      "cell_type": "code",
      "execution_count": null,
      "id": "618de9f9-720b-436d-bc3e-6f073a67aef8",
      "metadata": {
        "colab": {
          "base_uri": "https://localhost:8080/"
        },
        "id": "618de9f9-720b-436d-bc3e-6f073a67aef8",
        "outputId": "9d4254c0-b952-488e-b1f2-be9ee61d4c81"
      },
      "outputs": [
        {
          "name": "stdout",
          "output_type": "stream",
          "text": [
            "              precision    recall  f1-score   support\n",
            "\n",
            "           0       0.59      0.72      0.65     74682\n",
            "           1       0.64      0.49      0.55     74682\n",
            "\n",
            "    accuracy                           0.60    149364\n",
            "   macro avg       0.61      0.60      0.60    149364\n",
            "weighted avg       0.61      0.60      0.60    149364\n",
            "\n",
            "              precision    recall  f1-score   support\n",
            "\n",
            "           0       0.87      0.73      0.80      8326\n",
            "           1       0.26      0.48      0.34      1674\n",
            "\n",
            "    accuracy                           0.69     10000\n",
            "   macro avg       0.57      0.60      0.57     10000\n",
            "weighted avg       0.77      0.69      0.72     10000\n",
            "\n"
          ]
        }
      ],
      "source": [
        "# Stochastic Gradient\n",
        "print(classification_report(y_train, SGD.predict(X_train)))\n",
        "print(classification_report(y_val, SGD.predict(X_val)))"
      ]
    },
    {
      "cell_type": "code",
      "execution_count": null,
      "id": "ff05cd62-6ff1-4ada-9bc5-a56fecaed71b",
      "metadata": {
        "colab": {
          "base_uri": "https://localhost:8080/"
        },
        "id": "ff05cd62-6ff1-4ada-9bc5-a56fecaed71b",
        "outputId": "8a87d257-7cab-4a80-c256-392a3b751c11"
      },
      "outputs": [
        {
          "name": "stdout",
          "output_type": "stream",
          "text": [
            "              precision    recall  f1-score   support\n",
            "\n",
            "           0       1.00      1.00      1.00     74682\n",
            "           1       1.00      1.00      1.00     74682\n",
            "\n",
            "    accuracy                           1.00    149364\n",
            "   macro avg       1.00      1.00      1.00    149364\n",
            "weighted avg       1.00      1.00      1.00    149364\n",
            "\n",
            "              precision    recall  f1-score   support\n",
            "\n",
            "           0       0.91      0.76      0.83      8326\n",
            "           1       0.34      0.62      0.44      1674\n",
            "\n",
            "    accuracy                           0.74     10000\n",
            "   macro avg       0.63      0.69      0.64     10000\n",
            "weighted avg       0.81      0.74      0.76     10000\n",
            "\n"
          ]
        }
      ],
      "source": [
        "# KNN\n",
        "print(classification_report(y_train, neigh.predict(X_train)))\n",
        "print(classification_report(y_val, neigh.predict(X_val)))"
      ]
    },
    {
      "cell_type": "code",
      "execution_count": null,
      "id": "g0WLbtp3nolN",
      "metadata": {
        "colab": {
          "base_uri": "https://localhost:8080/"
        },
        "id": "g0WLbtp3nolN",
        "outputId": "45e12ab5-e8fa-4c87-d306-b509c0bc0b11"
      },
      "outputs": [
        {
          "name": "stdout",
          "output_type": "stream",
          "text": [
            "              precision    recall  f1-score   support\n",
            "\n",
            "           0       1.00      0.87      0.93     74682\n",
            "           1       0.89      1.00      0.94     74682\n",
            "\n",
            "    accuracy                           0.94    149364\n",
            "   macro avg       0.94      0.94      0.94    149364\n",
            "weighted avg       0.94      0.94      0.94    149364\n",
            "\n",
            "              precision    recall  f1-score   support\n",
            "\n",
            "           0       0.91      0.76      0.83      8326\n",
            "           1       0.34      0.62      0.44      1674\n",
            "\n",
            "    accuracy                           0.74     10000\n",
            "   macro avg       0.63      0.69      0.64     10000\n",
            "weighted avg       0.81      0.74      0.76     10000\n",
            "\n"
          ]
        }
      ],
      "source": [
        "# KNN-2\n",
        "print(classification_report(y_train, neigh2.predict(X_train)))\n",
        "print(classification_report(y_val, neigh2.predict(X_val)))"
      ]
    },
    {
      "cell_type": "code",
      "execution_count": null,
      "id": "HhStGAqyoNvb",
      "metadata": {
        "colab": {
          "base_uri": "https://localhost:8080/"
        },
        "id": "HhStGAqyoNvb",
        "outputId": "0b2f02e2-e599-4b66-baeb-82690a1a55d3"
      },
      "outputs": [
        {
          "name": "stdout",
          "output_type": "stream",
          "text": [
            "              precision    recall  f1-score   support\n",
            "\n",
            "           0       0.71      0.75      0.73     74682\n",
            "           1       0.74      0.69      0.71     74682\n",
            "\n",
            "    accuracy                           0.72    149364\n",
            "   macro avg       0.72      0.72      0.72    149364\n",
            "weighted avg       0.72      0.72      0.72    149364\n",
            "\n",
            "              precision    recall  f1-score   support\n",
            "\n",
            "           0       0.89      0.77      0.82      8326\n",
            "           1       0.31      0.51      0.38      1674\n",
            "\n",
            "    accuracy                           0.73     10000\n",
            "   macro avg       0.60      0.64      0.60     10000\n",
            "weighted avg       0.79      0.73      0.75     10000\n",
            "\n"
          ]
        }
      ],
      "source": [
        "# Ada\n",
        "print(classification_report(y_train, Ada.predict(X_train)))\n",
        "print(classification_report(y_val, Ada.predict(X_val)))"
      ]
    },
    {
      "cell_type": "markdown",
      "id": "ac5a0613-2c3f-474b-af1e-a022377b93bd",
      "metadata": {
        "id": "ac5a0613-2c3f-474b-af1e-a022377b93bd"
      },
      "source": [
        "# AUC"
      ]
    },
    {
      "cell_type": "code",
      "execution_count": null,
      "id": "m36TW-qTngcS",
      "metadata": {
        "id": "m36TW-qTngcS"
      },
      "outputs": [],
      "source": [
        "# Capture ROC AUC for validation data\n",
        "auc_log_val, fpr_log_val, tpr_log_val = get_auc_scores(y_val, log.predict(X_val),log.predict_proba(X_val)[:,1])\n",
        "auc_RF_val, fpr_RF_val, tpr_RF_val = get_auc_scores(y_val, RF.predict(X_val),RF.predict_proba(X_val)[:,1])\n",
        "auc_XGB_val, fpr_XGB_val, tpr_XGB_val = get_auc_scores(y_val, XGB.predict(X_val),XGB.predict_proba(X_val)[:,1])\n",
        "auc_gnb_val, fpr_gnb_val, tpr_gnb_val = get_auc_scores(y_val, gnb.predict(X_val),gnb.predict_proba(X_val)[:,1])\n",
        "auc_SGD_val, fpr_SGD_val, tpr_SGD_val = get_auc_scores(y_val, SGD.predict(X_val),SGD.predict_proba(X_val)[:,1])\n",
        "auc_neigh_val, fpr_neigh_val, tpr_neigh_val = get_auc_scores(y_val, neigh.predict(X_val),neigh.predict_proba(X_val)[:,1])\n",
        "auc_neigh2_val, fpr_neigh2_val, tpr_neigh2_val = get_auc_scores(y_val, neigh2.predict(X_val),neigh2.predict_proba(X_val)[:,1])\n",
        "auc_Ada_val, fpr_Ada_val, tpr_Ada_val = get_auc_scores(y_val, Ada.predict(X_val),Ada.predict_proba(X_val)[:,1])"
      ]
    },
    {
      "cell_type": "code",
      "execution_count": null,
      "id": "hRrpig7ePsGs",
      "metadata": {
        "colab": {
          "base_uri": "https://localhost:8080/",
          "height": 410
        },
        "id": "hRrpig7ePsGs",
        "outputId": "15551212-1bf8-46c0-8df6-0f45b925f215"
      },
      "outputs": [
        {
          "data": {
            "image/png": "[encoded data removed]",
            "text/plain": [
              "<Figure size 864x432 with 1 Axes>"
            ]
          },
          "metadata": {
            "needs_background": "light"
          },
          "output_type": "display_data"
        }
      ],
      "source": [
        "plt.figure(figsize = (12,6), linewidth= 1)\n",
        "plt.plot(fpr_log_val, tpr_log_val, label = 'log Val Score: ' + str(round(auc_log_val, 5)))\n",
        "plt.plot(fpr_RF_val, tpr_RF_val, label = 'RF Val Score: ' + str(round(auc_RF_val, 5)))\n",
        "plt.plot(fpr_XGB_val, tpr_XGB_val, label = 'XGB Val Score: ' + str(round(auc_XGB_val, 5)))\n",
        "plt.plot(fpr_gnb_val, tpr_gnb_val, label = 'gnb Val Score: ' + str(round(auc_gnb_val, 5)))\n",
        "plt.plot(fpr_SGD_val, tpr_SGD_val, label = 'SGD Val Score: ' + str(round(auc_SGD_val, 5)))\n",
        "plt.plot(fpr_neigh_val, tpr_neigh_val, label = 'KNN Val Score: ' + str(round(auc_neigh_val, 5)))\n",
        "plt.plot(fpr_neigh2_val, tpr_neigh2_val, label = 'KNN-2 Val Score: ' + str(round(auc_neigh2_val, 5)))\n",
        "plt.plot(fpr_Ada_val, tpr_Ada_val, label = 'Ada Val Score: ' + str(round(auc_Ada_val, 5)))\n",
        "\n",
        "plt.plot([0,1], [0,1], 'k--', label = 'Random: 0.5')\n",
        "plt.xlabel('False positive rate')\n",
        "plt.ylabel('True positive rate')\n",
        "plt.title('ROC Curve of Validation Data')\n",
        "plt.legend(loc='best')\n",
        "plt.show()"
      ]
    },
    {
      "cell_type": "markdown",
      "id": "5a1cb9c7-a346-488a-a5ba-b946cd1bcb16",
      "metadata": {
        "id": "5a1cb9c7-a346-488a-a5ba-b946cd1bcb16"
      },
      "source": [
        "# Predicting test data"
      ]
    },
    {
      "cell_type": "code",
      "execution_count": null,
      "id": "89036859-2dc4-4727-89e7-9bd16074b9f3",
      "metadata": {
        "id": "89036859-2dc4-4727-89e7-9bd16074b9f3"
      },
      "outputs": [],
      "source": [
        "X_test = pd.read_csv(\"findata_challenge_test.csv\")"
      ]
    },
    {
      "cell_type": "code",
      "execution_count": null,
      "id": "155b51aa-b469-4e7b-82ff-7c0aceb976ff",
      "metadata": {
        "id": "155b51aa-b469-4e7b-82ff-7c0aceb976ff"
      },
      "outputs": [],
      "source": [
        "con_var = [col for col in X_test.columns if X_test[col].dtype == np.float64]\n",
        "cat_var = [col for col in X_test.columns if X_test[col].dtype == object]\n",
        "\n",
        "# Imputing continuous variables with KNN imputer\n",
        "imputer = KNNImputer(n_neighbors=2)\n",
        "X_test[con_var] = imputer.fit_transform(X_test[con_var])\n",
        "\n",
        "# Imputing categorical variables with their mode\n",
        "for col in cat_var:\n",
        "    X_test[col] = X_test[col].replace(np.nan, X_test[col].mode()[0])\n",
        "\n",
        "# Masking selected features\n",
        "X_test = X_test.loc[:, mask]\n",
        "\n",
        "# Converting all of the categorical into numerical    \n",
        "for column in X_test.columns:\n",
        "    if X_test[column].dtype == object:\n",
        "        X_test[column] = LabelEncoder().fit_transform(X_test[column])"
      ]
    },
    {
      "cell_type": "code",
      "execution_count": null,
      "id": "d4d19ccc-b384-4619-8b36-31ff7f78f95c",
      "metadata": {
        "id": "d4d19ccc-b384-4619-8b36-31ff7f78f95c"
      },
      "outputs": [],
      "source": [
        "# Hanya men-transform test data        \n",
        "X_test = RobustScaler().fit_transform(X_test)"
      ]
    },
    {
      "cell_type": "code",
      "execution_count": null,
      "id": "bcTn5S5UwCIi",
      "metadata": {
        "id": "bcTn5S5UwCIi"
      },
      "outputs": [],
      "source": [
        "# KNN\n",
        "Prediction = neigh.predict(X_test)\n",
        "Id = list(range(len(Prediction)))\n",
        "submission = pd.DataFrame({\n",
        "    \"Id\":Id,\n",
        "    \"Prediction\":Prediction\n",
        "})\n",
        "print(submission.head())\n",
        "\n",
        "# Proportion of churning customers\n",
        "labels = 'Yes', 'No'\n",
        "sizes = [submission.Prediction[submission['Prediction']==1].count(), submission.Prediction[submission['Prediction']==0].count()]\n",
        "explode = (0, 0.1)\n",
        "fig1, ax1 = plt.subplots(figsize=(10, 8))\n",
        "ax1.pie(sizes, explode=explode, labels=labels, autopct='%1.1f%%',\n",
        "        shadow=True, startangle=90)\n",
        "ax1.axis('equal')\n",
        "plt.title(\"Proportion of predicted churned and retained customers (KNN)\", size = 15)\n",
        "plt.show()"
      ]
    },
    {
      "cell_type": "code",
      "execution_count": null,
      "id": "c8f4ee52-ed55-41b3-9cb1-1ee39211455c",
      "metadata": {
        "id": "c8f4ee52-ed55-41b3-9cb1-1ee39211455c"
      },
      "outputs": [],
      "source": [
        "# KNN-2\n",
        "Prediction = neigh2.predict(X_test)\n",
        "Id = list(range(len(Prediction)))\n",
        "submission = pd.DataFrame({\n",
        "    \"Id\":Id,\n",
        "    \"Prediction\":Prediction\n",
        "})\n",
        "print(submission.head())\n",
        "\n",
        "# Proportion of churning customers\n",
        "labels = 'Yes', 'No'\n",
        "sizes = [submission.Prediction[submission['Prediction']==1].count(), submission.Prediction[submission['Prediction']==0].count()]\n",
        "explode = (0, 0.1)\n",
        "fig1, ax1 = plt.subplots(figsize=(10, 8))\n",
        "ax1.pie(sizes, explode=explode, labels=labels, autopct='%1.1f%%',\n",
        "        shadow=True, startangle=90)\n",
        "ax1.axis('equal')\n",
        "plt.title(\"Proportion of predicted churned and retained customers (KNN-2)\", size = 15)\n",
        "plt.show()"
      ]
    },
    {
      "cell_type": "code",
      "execution_count": null,
      "id": "Bm9vtorawgOO",
      "metadata": {
        "id": "Bm9vtorawgOO"
      },
      "outputs": [],
      "source": [
        "# SGD\n",
        "Prediction = SGD.predict(X_test)\n",
        "Id = list(range(len(Prediction)))\n",
        "submission = pd.DataFrame({\n",
        "    \"Id\":Id,\n",
        "    \"Prediction\":Prediction\n",
        "})\n",
        "print(submission.head())\n",
        "\n",
        "# Proportion of churning customers\n",
        "labels = 'Yes', 'No'\n",
        "sizes = [submission.Prediction[submission['Prediction']==1].count(), submission.Prediction[submission['Prediction']==0].count()]\n",
        "explode = (0, 0.1)\n",
        "fig1, ax1 = plt.subplots(figsize=(10, 8))\n",
        "ax1.pie(sizes, explode=explode, labels=labels, autopct='%1.1f%%',\n",
        "        shadow=True, startangle=90)\n",
        "ax1.axis('equal')\n",
        "plt.title(\"Proportion of predicted churned and retained customers (SGD)\", size = 15)\n",
        "plt.show()"
      ]
    },
    {
      "cell_type": "code",
      "execution_count": null,
      "id": "hHShWikRyiKe",
      "metadata": {
        "id": "hHShWikRyiKe"
      },
      "outputs": [],
      "source": [
        "# XGB\n",
        "Prediction = XGB.predict(X_test)\n",
        "Id = list(range(len(Prediction)))\n",
        "submission = pd.DataFrame({\n",
        "    \"Id\":Id,\n",
        "    \"Prediction\":Prediction\n",
        "})\n",
        "print(submission.head())\n",
        "\n",
        "# Proportion of churning customers\n",
        "labels = 'Yes', 'No'\n",
        "sizes = [submission.Prediction[submission['Prediction']==1].count(), submission.Prediction[submission['Prediction']==0].count()]\n",
        "explode = (0, 0.1)\n",
        "fig1, ax1 = plt.subplots(figsize=(10, 8))\n",
        "ax1.pie(sizes, explode=explode, labels=labels, autopct='%1.1f%%',\n",
        "        shadow=True, startangle=90)\n",
        "ax1.axis('equal')\n",
        "plt.title(\"Proportion of predicted churned and retained customers (XGB)\", size = 15)\n",
        "plt.show()"
      ]
    },
    {
      "cell_type": "code",
      "execution_count": null,
      "id": "vQhWCTSezdwk",
      "metadata": {
        "id": "vQhWCTSezdwk"
      },
      "outputs": [],
      "source": [
        "# RF\n",
        "Prediction = RF.predict(X_test)\n",
        "Id = list(range(len(Prediction)))\n",
        "submission = pd.DataFrame({\n",
        "    \"Id\":Id,\n",
        "    \"Prediction\":Prediction\n",
        "})\n",
        "print(submission.head())\n",
        "\n",
        "# Proportion of churning customers\n",
        "labels = 'Yes', 'No'\n",
        "sizes = [submission.Prediction[submission['Prediction']==1].count(), submission.Prediction[submission['Prediction']==0].count()]\n",
        "explode = (0, 0.1)\n",
        "fig1, ax1 = plt.subplots(figsize=(10, 8))\n",
        "ax1.pie(sizes, explode=explode, labels=labels, autopct='%1.1f%%',\n",
        "        shadow=True, startangle=90)\n",
        "ax1.axis('equal')\n",
        "plt.title(\"Proportion of predicted churned and retained customers (RF)\", size = 15)\n",
        "plt.show()"
      ]
    },
    {
      "cell_type": "code",
      "execution_count": null,
      "id": "pIQf1S0T0F8Y",
      "metadata": {
        "id": "pIQf1S0T0F8Y"
      },
      "outputs": [],
      "source": [
        "# Log reg\n",
        "Prediction = log.predict(X_test)\n",
        "Id = list(range(len(Prediction)))\n",
        "submission = pd.DataFrame({\n",
        "    \"Id\":Id,\n",
        "    \"Prediction\":Prediction\n",
        "})\n",
        "print(submission.head())\n",
        "\n",
        "# Proportion of churning customers\n",
        "labels = 'Yes', 'No'\n",
        "sizes = [submission.Prediction[submission['Prediction']==1].count(), submission.Prediction[submission['Prediction']==0].count()]\n",
        "explode = (0, 0.1)\n",
        "fig1, ax1 = plt.subplots(figsize=(10, 8))\n",
        "ax1.pie(sizes, explode=explode, labels=labels, autopct='%1.1f%%',\n",
        "        shadow=True, startangle=90)\n",
        "ax1.axis('equal')\n",
        "plt.title(\"Proportion of predicted churned and retained customers (Log)\", size = 15)\n",
        "plt.show()"
      ]
    },
    {
      "cell_type": "code",
      "execution_count": null,
      "id": "pa2eWVFFjZ6p",
      "metadata": {
        "id": "pa2eWVFFjZ6p"
      },
      "outputs": [],
      "source": [
        "# Ada\n",
        "Prediction = Ada.predict(X_test)\n",
        "Id = list(range(len(Prediction)))\n",
        "submission = pd.DataFrame({\n",
        "    \"Id\":Id,\n",
        "    \"Prediction\":Prediction\n",
        "})\n",
        "print(submission.head())\n",
        "\n",
        "# Proportion of churning customers\n",
        "labels = 'Yes', 'No'\n",
        "sizes = [submission.Prediction[submission['Prediction']==1].count(), submission.Prediction[submission['Prediction']==0].count()]\n",
        "explode = (0, 0.1)\n",
        "fig1, ax1 = plt.subplots(figsize=(10, 8))\n",
        "ax1.pie(sizes, explode=explode, labels=labels, autopct='%1.1f%%',\n",
        "        shadow=True, startangle=90)\n",
        "ax1.axis('equal')\n",
        "plt.title(\"Proportion of predicted churned and retained customers (Ada)\", size = 15)\n",
        "plt.show()"
      ]
    },
    {
      "cell_type": "markdown",
      "id": "ewvnRdLLRYWi",
      "metadata": {
        "id": "ewvnRdLLRYWi"
      },
      "source": [
        "According to AUC of validation data, **_Random Forest_** is the best  model."
      ]
    },
    {
      "cell_type": "code",
      "execution_count": null,
      "id": "8FlezKbirD7I",
      "metadata": {
        "id": "8FlezKbirD7I"
      },
      "outputs": [],
      "source": [
        "# Model RF\n",
        "Prediction = RF.predict(X_test)\n",
        "Id = list(range(len(Prediction)))\n",
        "submission = pd.DataFrame({\n",
        "    \"Id\":Id,\n",
        "    \"Prediction\":Prediction\n",
        "})\n",
        "\n",
        "submission.to_csv(\"Vallian_Sayoga-submission.csv\", index=False)"
      ]
    },
    {
      "cell_type": "markdown",
      "id": "odlClvn4hAqu",
      "metadata": {
        "id": "odlClvn4hAqu"
      },
      "source": [
        "In churning prediction, False Positive rate is more desirable than False Negative since it can help BRI to anticipate churning customers"
      ]
    }
  ],
  "metadata": {
    "colab": {
      "collapsed_sections": [],
      "name": "Vallian_Sayoga_submission.ipynb",
      "provenance": []
    },
    "kernelspec": {
      "display_name": "Python 3 (ipykernel)",
      "language": "python",
      "name": "python3"
    },
    "language_info": {
      "codemirror_mode": {
        "name": "ipython",
        "version": 3
      },
      "file_extension": ".py",
      "mimetype": "text/x-python",
      "name": "python",
      "nbconvert_exporter": "python",
      "pygments_lexer": "ipython3",
      "version": "3.10.2"
    }
  },
  "nbformat": 4,
  "nbformat_minor": 5
}